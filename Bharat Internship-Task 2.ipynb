{
 "cells": [
  {
   "cell_type": "markdown",
   "id": "a8758ab8",
   "metadata": {},
   "source": [
    "# Bharat Intern Internship"
   ]
  },
  {
   "cell_type": "markdown",
   "id": "4fa2ab39",
   "metadata": {},
   "source": [
    "# TASK 2 : STOCK PREDICTION"
   ]
  },
  {
   "cell_type": "markdown",
   "id": "4965084e",
   "metadata": {},
   "source": [
    "By Gowri Sri Valli Chitturi"
   ]
  },
  {
   "cell_type": "markdown",
   "id": "5c14bc16",
   "metadata": {},
   "source": [
    "# PURPOSE : TO PREDICT THE STOCK PRICE OF A COMPANY USING LSTM."
   ]
  },
  {
   "cell_type": "markdown",
   "id": "e240a0e4",
   "metadata": {},
   "source": [
    "# ABOUT DATASET"
   ]
  },
  {
   "cell_type": "markdown",
   "id": "da92ae3b",
   "metadata": {},
   "source": [
    "# Google Stock Prediction"
   ]
  },
  {
   "cell_type": "markdown",
   "id": "86cca66c",
   "metadata": {},
   "source": [
    "This dataset contains historical data of Google's stock prices and related attributes. It consists of 14 columns and a smaller subset of 1257 rows. Each column represents a specific attribute, and each row contains the corresponding values for that attribute.\n",
    "\n",
    "The columns in the dataset are as follows:\n",
    "\n",
    "1.Symbol: The name of the company, which is GOOG in this case.\n",
    "\n",
    "2.Date: The year and date of the stock data.\n",
    "\n",
    "3.Close: The closing price of Google's stock on a particular day.\n",
    "\n",
    "4.High: The highest value reached by Google's stock on the given day.\n",
    "\n",
    "5.Low: The lowest value reached by Google's stock on the given day.\n",
    "\n",
    "6.Open: The opening value of Google's stock on the given day.\n",
    "\n",
    "7.Volume: The trading volume of Google's stock on the given day, i.e., the number of shares traded.\n",
    "\n",
    "8.adjClose: The adjusted closing price of Google's stock, considering factors such as dividends and stock splits.\n",
    "\n",
    "9.adjHigh: The adjusted highest value reached by Google's stock on the given day.\n",
    "\n",
    "10.adjLow: The adjusted lowest value reached by Google's stock on the given day.\n",
    "\n",
    "11.adjOpen: The adjusted opening value of Google's stock on the given day.\n",
    "\n",
    "12.adjVolume: The adjusted trading volume of Google's stock on the given day, accounting for factors such as stock splits.\n",
    "\n",
    "13.divCash: The amount of cash dividend paid out to shareholders on the given day.\n",
    "\n",
    "14.splitFactor: The split factor, if any, applied to Google's stock on the given day. A split factor of 1 indicates no split.\n",
    "    \n",
    "    \n",
    "The dataset is available at Kaggle : https://www.kaggle.com/datasets/shreenidhihipparagi/google-stock-prediction"
   ]
  },
  {
   "cell_type": "markdown",
   "id": "0da7f7fa",
   "metadata": {},
   "source": [
    "# STEPS INVOLVED :"
   ]
  },
  {
   "cell_type": "markdown",
   "id": "0db23e5e",
   "metadata": {},
   "source": [
    "# 1 . IMPORTING LIBRARIES AND DATA TO BE USED\n"
   ]
  },
  {
   "cell_type": "markdown",
   "id": "4b5d5b2d",
   "metadata": {},
   "source": [
    "# 2. GATHERING INSIGHTS"
   ]
  },
  {
   "cell_type": "markdown",
   "id": "8a24c6e7",
   "metadata": {},
   "source": [
    "# 3. DATA PRE-PROCESSING"
   ]
  },
  {
   "cell_type": "markdown",
   "id": "58465c56",
   "metadata": {},
   "source": [
    "# 4. CREATING LSTM MODEL"
   ]
  },
  {
   "cell_type": "markdown",
   "id": "b6aeceea",
   "metadata": {},
   "source": [
    "# 5. VISUALIZING ACTUAL VS PREDICTED DATA"
   ]
  },
  {
   "cell_type": "markdown",
   "id": "c7042506",
   "metadata": {},
   "source": [
    "# 6. PREDICTING UPCOMING 15 DAYS"
   ]
  },
  {
   "cell_type": "markdown",
   "id": "df057591",
   "metadata": {},
   "source": [
    "# STEP 1 : IMPORTING LIBRARIES AND DATA TO BE USED"
   ]
  },
  {
   "cell_type": "code",
   "execution_count": 1,
   "id": "df03a4e4",
   "metadata": {},
   "outputs": [
    {
     "name": "stderr",
     "output_type": "stream",
     "text": [
      "D:\\Users\\ADMIN\\AppData\\Local\\lib\\site-packages\\scipy\\__init__.py:146: UserWarning: A NumPy version >=1.16.5 and <1.23.0 is required for this version of SciPy (detected version 1.24.3\n",
      "  warnings.warn(f\"A NumPy version >={np_minversion} and <{np_maxversion}\"\n"
     ]
    }
   ],
   "source": [
    "#importing libraries to be used\n",
    "import numpy as np # for linear algebra\n",
    "import pandas as pd # data preprocessing\n",
    "import matplotlib.pyplot as plt # data visualization library\n",
    "import seaborn as sns # data visualization library\n",
    "%matplotlib inline\n",
    "import warnings\n",
    "warnings.filterwarnings('ignore') # ignore warnings \n",
    "\n",
    "from sklearn.preprocessing import MinMaxScaler # for normalization\n",
    "from keras.models import Sequential\n",
    "from keras.layers import Dense, Dropout, LSTM, Bidirectional\n"
   ]
  },
  {
   "cell_type": "code",
   "execution_count": 2,
   "id": "c92459cd",
   "metadata": {},
   "outputs": [
    {
     "data": {
      "text/html": [
       "<div>\n",
       "<style scoped>\n",
       "    .dataframe tbody tr th:only-of-type {\n",
       "        vertical-align: middle;\n",
       "    }\n",
       "\n",
       "    .dataframe tbody tr th {\n",
       "        vertical-align: top;\n",
       "    }\n",
       "\n",
       "    .dataframe thead th {\n",
       "        text-align: right;\n",
       "    }\n",
       "</style>\n",
       "<table border=\"1\" class=\"dataframe\">\n",
       "  <thead>\n",
       "    <tr style=\"text-align: right;\">\n",
       "      <th></th>\n",
       "      <th>symbol</th>\n",
       "      <th>date</th>\n",
       "      <th>close</th>\n",
       "      <th>high</th>\n",
       "      <th>low</th>\n",
       "      <th>open</th>\n",
       "      <th>volume</th>\n",
       "      <th>adjClose</th>\n",
       "      <th>adjHigh</th>\n",
       "      <th>adjLow</th>\n",
       "      <th>adjOpen</th>\n",
       "      <th>adjVolume</th>\n",
       "      <th>divCash</th>\n",
       "      <th>splitFactor</th>\n",
       "    </tr>\n",
       "  </thead>\n",
       "  <tbody>\n",
       "    <tr>\n",
       "      <th>0</th>\n",
       "      <td>GOOG</td>\n",
       "      <td>2016-06-14 00:00:00+00:00</td>\n",
       "      <td>718.27</td>\n",
       "      <td>722.47</td>\n",
       "      <td>713.1200</td>\n",
       "      <td>716.48</td>\n",
       "      <td>1306065</td>\n",
       "      <td>718.27</td>\n",
       "      <td>722.47</td>\n",
       "      <td>713.1200</td>\n",
       "      <td>716.48</td>\n",
       "      <td>1306065</td>\n",
       "      <td>0.0</td>\n",
       "      <td>1.0</td>\n",
       "    </tr>\n",
       "    <tr>\n",
       "      <th>1</th>\n",
       "      <td>GOOG</td>\n",
       "      <td>2016-06-15 00:00:00+00:00</td>\n",
       "      <td>718.92</td>\n",
       "      <td>722.98</td>\n",
       "      <td>717.3100</td>\n",
       "      <td>719.00</td>\n",
       "      <td>1214517</td>\n",
       "      <td>718.92</td>\n",
       "      <td>722.98</td>\n",
       "      <td>717.3100</td>\n",
       "      <td>719.00</td>\n",
       "      <td>1214517</td>\n",
       "      <td>0.0</td>\n",
       "      <td>1.0</td>\n",
       "    </tr>\n",
       "    <tr>\n",
       "      <th>2</th>\n",
       "      <td>GOOG</td>\n",
       "      <td>2016-06-16 00:00:00+00:00</td>\n",
       "      <td>710.36</td>\n",
       "      <td>716.65</td>\n",
       "      <td>703.2600</td>\n",
       "      <td>714.91</td>\n",
       "      <td>1982471</td>\n",
       "      <td>710.36</td>\n",
       "      <td>716.65</td>\n",
       "      <td>703.2600</td>\n",
       "      <td>714.91</td>\n",
       "      <td>1982471</td>\n",
       "      <td>0.0</td>\n",
       "      <td>1.0</td>\n",
       "    </tr>\n",
       "    <tr>\n",
       "      <th>3</th>\n",
       "      <td>GOOG</td>\n",
       "      <td>2016-06-17 00:00:00+00:00</td>\n",
       "      <td>691.72</td>\n",
       "      <td>708.82</td>\n",
       "      <td>688.4515</td>\n",
       "      <td>708.65</td>\n",
       "      <td>3402357</td>\n",
       "      <td>691.72</td>\n",
       "      <td>708.82</td>\n",
       "      <td>688.4515</td>\n",
       "      <td>708.65</td>\n",
       "      <td>3402357</td>\n",
       "      <td>0.0</td>\n",
       "      <td>1.0</td>\n",
       "    </tr>\n",
       "    <tr>\n",
       "      <th>4</th>\n",
       "      <td>GOOG</td>\n",
       "      <td>2016-06-20 00:00:00+00:00</td>\n",
       "      <td>693.71</td>\n",
       "      <td>702.48</td>\n",
       "      <td>693.4100</td>\n",
       "      <td>698.77</td>\n",
       "      <td>2082538</td>\n",
       "      <td>693.71</td>\n",
       "      <td>702.48</td>\n",
       "      <td>693.4100</td>\n",
       "      <td>698.77</td>\n",
       "      <td>2082538</td>\n",
       "      <td>0.0</td>\n",
       "      <td>1.0</td>\n",
       "    </tr>\n",
       "    <tr>\n",
       "      <th>5</th>\n",
       "      <td>GOOG</td>\n",
       "      <td>2016-06-21 00:00:00+00:00</td>\n",
       "      <td>695.94</td>\n",
       "      <td>702.77</td>\n",
       "      <td>692.0100</td>\n",
       "      <td>698.40</td>\n",
       "      <td>1465634</td>\n",
       "      <td>695.94</td>\n",
       "      <td>702.77</td>\n",
       "      <td>692.0100</td>\n",
       "      <td>698.40</td>\n",
       "      <td>1465634</td>\n",
       "      <td>0.0</td>\n",
       "      <td>1.0</td>\n",
       "    </tr>\n",
       "    <tr>\n",
       "      <th>6</th>\n",
       "      <td>GOOG</td>\n",
       "      <td>2016-06-22 00:00:00+00:00</td>\n",
       "      <td>697.46</td>\n",
       "      <td>700.86</td>\n",
       "      <td>693.0819</td>\n",
       "      <td>699.06</td>\n",
       "      <td>1184318</td>\n",
       "      <td>697.46</td>\n",
       "      <td>700.86</td>\n",
       "      <td>693.0819</td>\n",
       "      <td>699.06</td>\n",
       "      <td>1184318</td>\n",
       "      <td>0.0</td>\n",
       "      <td>1.0</td>\n",
       "    </tr>\n",
       "    <tr>\n",
       "      <th>7</th>\n",
       "      <td>GOOG</td>\n",
       "      <td>2016-06-23 00:00:00+00:00</td>\n",
       "      <td>701.87</td>\n",
       "      <td>701.95</td>\n",
       "      <td>687.0000</td>\n",
       "      <td>697.45</td>\n",
       "      <td>2171415</td>\n",
       "      <td>701.87</td>\n",
       "      <td>701.95</td>\n",
       "      <td>687.0000</td>\n",
       "      <td>697.45</td>\n",
       "      <td>2171415</td>\n",
       "      <td>0.0</td>\n",
       "      <td>1.0</td>\n",
       "    </tr>\n",
       "    <tr>\n",
       "      <th>8</th>\n",
       "      <td>GOOG</td>\n",
       "      <td>2016-06-24 00:00:00+00:00</td>\n",
       "      <td>675.22</td>\n",
       "      <td>689.40</td>\n",
       "      <td>673.4500</td>\n",
       "      <td>675.17</td>\n",
       "      <td>4449022</td>\n",
       "      <td>675.22</td>\n",
       "      <td>689.40</td>\n",
       "      <td>673.4500</td>\n",
       "      <td>675.17</td>\n",
       "      <td>4449022</td>\n",
       "      <td>0.0</td>\n",
       "      <td>1.0</td>\n",
       "    </tr>\n",
       "    <tr>\n",
       "      <th>9</th>\n",
       "      <td>GOOG</td>\n",
       "      <td>2016-06-27 00:00:00+00:00</td>\n",
       "      <td>668.26</td>\n",
       "      <td>672.30</td>\n",
       "      <td>663.2840</td>\n",
       "      <td>671.00</td>\n",
       "      <td>2641085</td>\n",
       "      <td>668.26</td>\n",
       "      <td>672.30</td>\n",
       "      <td>663.2840</td>\n",
       "      <td>671.00</td>\n",
       "      <td>2641085</td>\n",
       "      <td>0.0</td>\n",
       "      <td>1.0</td>\n",
       "    </tr>\n",
       "  </tbody>\n",
       "</table>\n",
       "</div>"
      ],
      "text/plain": [
       "  symbol                       date   close    high       low    open  \\\n",
       "0   GOOG  2016-06-14 00:00:00+00:00  718.27  722.47  713.1200  716.48   \n",
       "1   GOOG  2016-06-15 00:00:00+00:00  718.92  722.98  717.3100  719.00   \n",
       "2   GOOG  2016-06-16 00:00:00+00:00  710.36  716.65  703.2600  714.91   \n",
       "3   GOOG  2016-06-17 00:00:00+00:00  691.72  708.82  688.4515  708.65   \n",
       "4   GOOG  2016-06-20 00:00:00+00:00  693.71  702.48  693.4100  698.77   \n",
       "5   GOOG  2016-06-21 00:00:00+00:00  695.94  702.77  692.0100  698.40   \n",
       "6   GOOG  2016-06-22 00:00:00+00:00  697.46  700.86  693.0819  699.06   \n",
       "7   GOOG  2016-06-23 00:00:00+00:00  701.87  701.95  687.0000  697.45   \n",
       "8   GOOG  2016-06-24 00:00:00+00:00  675.22  689.40  673.4500  675.17   \n",
       "9   GOOG  2016-06-27 00:00:00+00:00  668.26  672.30  663.2840  671.00   \n",
       "\n",
       "    volume  adjClose  adjHigh    adjLow  adjOpen  adjVolume  divCash  \\\n",
       "0  1306065    718.27   722.47  713.1200   716.48    1306065      0.0   \n",
       "1  1214517    718.92   722.98  717.3100   719.00    1214517      0.0   \n",
       "2  1982471    710.36   716.65  703.2600   714.91    1982471      0.0   \n",
       "3  3402357    691.72   708.82  688.4515   708.65    3402357      0.0   \n",
       "4  2082538    693.71   702.48  693.4100   698.77    2082538      0.0   \n",
       "5  1465634    695.94   702.77  692.0100   698.40    1465634      0.0   \n",
       "6  1184318    697.46   700.86  693.0819   699.06    1184318      0.0   \n",
       "7  2171415    701.87   701.95  687.0000   697.45    2171415      0.0   \n",
       "8  4449022    675.22   689.40  673.4500   675.17    4449022      0.0   \n",
       "9  2641085    668.26   672.30  663.2840   671.00    2641085      0.0   \n",
       "\n",
       "   splitFactor  \n",
       "0          1.0  \n",
       "1          1.0  \n",
       "2          1.0  \n",
       "3          1.0  \n",
       "4          1.0  \n",
       "5          1.0  \n",
       "6          1.0  \n",
       "7          1.0  \n",
       "8          1.0  \n",
       "9          1.0  "
      ]
     },
     "execution_count": 2,
     "metadata": {},
     "output_type": "execute_result"
    }
   ],
   "source": [
    "df = pd.read_csv('Task_2_Stocks_dataset.csv') # data_importing\n",
    "df.head(10) # fetching first 10 rows of dataset"
   ]
  },
  {
   "cell_type": "markdown",
   "id": "771ea17a",
   "metadata": {},
   "source": [
    "# STEP 2 : GATHERING INSIGHTS"
   ]
  },
  {
   "cell_type": "code",
   "execution_count": 4,
   "id": "d5cc1525",
   "metadata": {},
   "outputs": [
    {
     "name": "stdout",
     "output_type": "stream",
     "text": [
      "Shape of data: (1258, 14)\n"
     ]
    }
   ],
   "source": [
    "# shape of data\n",
    "print(\"Shape of data:\",df.shape)"
   ]
  },
  {
   "cell_type": "code",
   "execution_count": 5,
   "id": "9aee0b64",
   "metadata": {},
   "outputs": [
    {
     "data": {
      "text/html": [
       "<div>\n",
       "<style scoped>\n",
       "    .dataframe tbody tr th:only-of-type {\n",
       "        vertical-align: middle;\n",
       "    }\n",
       "\n",
       "    .dataframe tbody tr th {\n",
       "        vertical-align: top;\n",
       "    }\n",
       "\n",
       "    .dataframe thead th {\n",
       "        text-align: right;\n",
       "    }\n",
       "</style>\n",
       "<table border=\"1\" class=\"dataframe\">\n",
       "  <thead>\n",
       "    <tr style=\"text-align: right;\">\n",
       "      <th></th>\n",
       "      <th>close</th>\n",
       "      <th>high</th>\n",
       "      <th>low</th>\n",
       "      <th>open</th>\n",
       "      <th>volume</th>\n",
       "      <th>adjClose</th>\n",
       "      <th>adjHigh</th>\n",
       "      <th>adjLow</th>\n",
       "      <th>adjOpen</th>\n",
       "      <th>adjVolume</th>\n",
       "      <th>divCash</th>\n",
       "      <th>splitFactor</th>\n",
       "    </tr>\n",
       "  </thead>\n",
       "  <tbody>\n",
       "    <tr>\n",
       "      <th>count</th>\n",
       "      <td>1258.000000</td>\n",
       "      <td>1258.000000</td>\n",
       "      <td>1258.000000</td>\n",
       "      <td>1258.000000</td>\n",
       "      <td>1.258000e+03</td>\n",
       "      <td>1258.000000</td>\n",
       "      <td>1258.000000</td>\n",
       "      <td>1258.000000</td>\n",
       "      <td>1258.000000</td>\n",
       "      <td>1.258000e+03</td>\n",
       "      <td>1258.0</td>\n",
       "      <td>1258.0</td>\n",
       "    </tr>\n",
       "    <tr>\n",
       "      <th>mean</th>\n",
       "      <td>1216.317067</td>\n",
       "      <td>1227.430934</td>\n",
       "      <td>1204.176430</td>\n",
       "      <td>1215.260779</td>\n",
       "      <td>1.601590e+06</td>\n",
       "      <td>1216.317067</td>\n",
       "      <td>1227.430936</td>\n",
       "      <td>1204.176436</td>\n",
       "      <td>1215.260779</td>\n",
       "      <td>1.601590e+06</td>\n",
       "      <td>0.0</td>\n",
       "      <td>1.0</td>\n",
       "    </tr>\n",
       "    <tr>\n",
       "      <th>std</th>\n",
       "      <td>383.333358</td>\n",
       "      <td>387.570872</td>\n",
       "      <td>378.777094</td>\n",
       "      <td>382.446995</td>\n",
       "      <td>6.960172e+05</td>\n",
       "      <td>383.333358</td>\n",
       "      <td>387.570873</td>\n",
       "      <td>378.777099</td>\n",
       "      <td>382.446995</td>\n",
       "      <td>6.960172e+05</td>\n",
       "      <td>0.0</td>\n",
       "      <td>0.0</td>\n",
       "    </tr>\n",
       "    <tr>\n",
       "      <th>min</th>\n",
       "      <td>668.260000</td>\n",
       "      <td>672.300000</td>\n",
       "      <td>663.284000</td>\n",
       "      <td>671.000000</td>\n",
       "      <td>3.467530e+05</td>\n",
       "      <td>668.260000</td>\n",
       "      <td>672.300000</td>\n",
       "      <td>663.284000</td>\n",
       "      <td>671.000000</td>\n",
       "      <td>3.467530e+05</td>\n",
       "      <td>0.0</td>\n",
       "      <td>1.0</td>\n",
       "    </tr>\n",
       "    <tr>\n",
       "      <th>25%</th>\n",
       "      <td>960.802500</td>\n",
       "      <td>968.757500</td>\n",
       "      <td>952.182500</td>\n",
       "      <td>959.005000</td>\n",
       "      <td>1.173522e+06</td>\n",
       "      <td>960.802500</td>\n",
       "      <td>968.757500</td>\n",
       "      <td>952.182500</td>\n",
       "      <td>959.005000</td>\n",
       "      <td>1.173522e+06</td>\n",
       "      <td>0.0</td>\n",
       "      <td>1.0</td>\n",
       "    </tr>\n",
       "    <tr>\n",
       "      <th>50%</th>\n",
       "      <td>1132.460000</td>\n",
       "      <td>1143.935000</td>\n",
       "      <td>1117.915000</td>\n",
       "      <td>1131.150000</td>\n",
       "      <td>1.412588e+06</td>\n",
       "      <td>1132.460000</td>\n",
       "      <td>1143.935000</td>\n",
       "      <td>1117.915000</td>\n",
       "      <td>1131.150000</td>\n",
       "      <td>1.412588e+06</td>\n",
       "      <td>0.0</td>\n",
       "      <td>1.0</td>\n",
       "    </tr>\n",
       "    <tr>\n",
       "      <th>75%</th>\n",
       "      <td>1360.595000</td>\n",
       "      <td>1374.345000</td>\n",
       "      <td>1348.557500</td>\n",
       "      <td>1361.075000</td>\n",
       "      <td>1.812156e+06</td>\n",
       "      <td>1360.595000</td>\n",
       "      <td>1374.345000</td>\n",
       "      <td>1348.557500</td>\n",
       "      <td>1361.075000</td>\n",
       "      <td>1.812156e+06</td>\n",
       "      <td>0.0</td>\n",
       "      <td>1.0</td>\n",
       "    </tr>\n",
       "    <tr>\n",
       "      <th>max</th>\n",
       "      <td>2521.600000</td>\n",
       "      <td>2526.990000</td>\n",
       "      <td>2498.290000</td>\n",
       "      <td>2524.920000</td>\n",
       "      <td>6.207027e+06</td>\n",
       "      <td>2521.600000</td>\n",
       "      <td>2526.990000</td>\n",
       "      <td>2498.290000</td>\n",
       "      <td>2524.920000</td>\n",
       "      <td>6.207027e+06</td>\n",
       "      <td>0.0</td>\n",
       "      <td>1.0</td>\n",
       "    </tr>\n",
       "  </tbody>\n",
       "</table>\n",
       "</div>"
      ],
      "text/plain": [
       "             close         high          low         open        volume  \\\n",
       "count  1258.000000  1258.000000  1258.000000  1258.000000  1.258000e+03   \n",
       "mean   1216.317067  1227.430934  1204.176430  1215.260779  1.601590e+06   \n",
       "std     383.333358   387.570872   378.777094   382.446995  6.960172e+05   \n",
       "min     668.260000   672.300000   663.284000   671.000000  3.467530e+05   \n",
       "25%     960.802500   968.757500   952.182500   959.005000  1.173522e+06   \n",
       "50%    1132.460000  1143.935000  1117.915000  1131.150000  1.412588e+06   \n",
       "75%    1360.595000  1374.345000  1348.557500  1361.075000  1.812156e+06   \n",
       "max    2521.600000  2526.990000  2498.290000  2524.920000  6.207027e+06   \n",
       "\n",
       "          adjClose      adjHigh       adjLow      adjOpen     adjVolume  \\\n",
       "count  1258.000000  1258.000000  1258.000000  1258.000000  1.258000e+03   \n",
       "mean   1216.317067  1227.430936  1204.176436  1215.260779  1.601590e+06   \n",
       "std     383.333358   387.570873   378.777099   382.446995  6.960172e+05   \n",
       "min     668.260000   672.300000   663.284000   671.000000  3.467530e+05   \n",
       "25%     960.802500   968.757500   952.182500   959.005000  1.173522e+06   \n",
       "50%    1132.460000  1143.935000  1117.915000  1131.150000  1.412588e+06   \n",
       "75%    1360.595000  1374.345000  1348.557500  1361.075000  1.812156e+06   \n",
       "max    2521.600000  2526.990000  2498.290000  2524.920000  6.207027e+06   \n",
       "\n",
       "       divCash  splitFactor  \n",
       "count   1258.0       1258.0  \n",
       "mean       0.0          1.0  \n",
       "std        0.0          0.0  \n",
       "min        0.0          1.0  \n",
       "25%        0.0          1.0  \n",
       "50%        0.0          1.0  \n",
       "75%        0.0          1.0  \n",
       "max        0.0          1.0  "
      ]
     },
     "execution_count": 5,
     "metadata": {},
     "output_type": "execute_result"
    }
   ],
   "source": [
    "# statistical description of data\n",
    "df.describe()"
   ]
  },
  {
   "cell_type": "code",
   "execution_count": 6,
   "id": "b1c12a49",
   "metadata": {},
   "outputs": [
    {
     "name": "stdout",
     "output_type": "stream",
     "text": [
      "<class 'pandas.core.frame.DataFrame'>\n",
      "RangeIndex: 1258 entries, 0 to 1257\n",
      "Data columns (total 14 columns):\n",
      " #   Column       Non-Null Count  Dtype  \n",
      "---  ------       --------------  -----  \n",
      " 0   symbol       1258 non-null   object \n",
      " 1   date         1258 non-null   object \n",
      " 2   close        1258 non-null   float64\n",
      " 3   high         1258 non-null   float64\n",
      " 4   low          1258 non-null   float64\n",
      " 5   open         1258 non-null   float64\n",
      " 6   volume       1258 non-null   int64  \n",
      " 7   adjClose     1258 non-null   float64\n",
      " 8   adjHigh      1258 non-null   float64\n",
      " 9   adjLow       1258 non-null   float64\n",
      " 10  adjOpen      1258 non-null   float64\n",
      " 11  adjVolume    1258 non-null   int64  \n",
      " 12  divCash      1258 non-null   float64\n",
      " 13  splitFactor  1258 non-null   float64\n",
      "dtypes: float64(10), int64(2), object(2)\n",
      "memory usage: 137.7+ KB\n"
     ]
    }
   ],
   "source": [
    "# summary of data\n",
    "df.info()"
   ]
  },
  {
   "cell_type": "code",
   "execution_count": 7,
   "id": "d755879c",
   "metadata": {},
   "outputs": [
    {
     "data": {
      "text/plain": [
       "symbol         0\n",
       "date           0\n",
       "close          0\n",
       "high           0\n",
       "low            0\n",
       "open           0\n",
       "volume         0\n",
       "adjClose       0\n",
       "adjHigh        0\n",
       "adjLow         0\n",
       "adjOpen        0\n",
       "adjVolume      0\n",
       "divCash        0\n",
       "splitFactor    0\n",
       "dtype: int64"
      ]
     },
     "execution_count": 7,
     "metadata": {},
     "output_type": "execute_result"
    }
   ],
   "source": [
    "# checking null values\n",
    "df.isnull().sum()"
   ]
  },
  {
   "cell_type": "markdown",
   "id": "bf2f9883",
   "metadata": {},
   "source": [
    "There are no null values in the dataset"
   ]
  },
  {
   "cell_type": "code",
   "execution_count": 8,
   "id": "87731e37",
   "metadata": {},
   "outputs": [
    {
     "data": {
      "text/html": [
       "<div>\n",
       "<style scoped>\n",
       "    .dataframe tbody tr th:only-of-type {\n",
       "        vertical-align: middle;\n",
       "    }\n",
       "\n",
       "    .dataframe tbody tr th {\n",
       "        vertical-align: top;\n",
       "    }\n",
       "\n",
       "    .dataframe thead th {\n",
       "        text-align: right;\n",
       "    }\n",
       "</style>\n",
       "<table border=\"1\" class=\"dataframe\">\n",
       "  <thead>\n",
       "    <tr style=\"text-align: right;\">\n",
       "      <th></th>\n",
       "      <th>open</th>\n",
       "      <th>close</th>\n",
       "    </tr>\n",
       "    <tr>\n",
       "      <th>date</th>\n",
       "      <th></th>\n",
       "      <th></th>\n",
       "    </tr>\n",
       "  </thead>\n",
       "  <tbody>\n",
       "    <tr>\n",
       "      <th>2016-06-14</th>\n",
       "      <td>716.48</td>\n",
       "      <td>718.27</td>\n",
       "    </tr>\n",
       "    <tr>\n",
       "      <th>2016-06-15</th>\n",
       "      <td>719.00</td>\n",
       "      <td>718.92</td>\n",
       "    </tr>\n",
       "    <tr>\n",
       "      <th>2016-06-16</th>\n",
       "      <td>714.91</td>\n",
       "      <td>710.36</td>\n",
       "    </tr>\n",
       "    <tr>\n",
       "      <th>2016-06-17</th>\n",
       "      <td>708.65</td>\n",
       "      <td>691.72</td>\n",
       "    </tr>\n",
       "    <tr>\n",
       "      <th>2016-06-20</th>\n",
       "      <td>698.77</td>\n",
       "      <td>693.71</td>\n",
       "    </tr>\n",
       "    <tr>\n",
       "      <th>2016-06-21</th>\n",
       "      <td>698.40</td>\n",
       "      <td>695.94</td>\n",
       "    </tr>\n",
       "    <tr>\n",
       "      <th>2016-06-22</th>\n",
       "      <td>699.06</td>\n",
       "      <td>697.46</td>\n",
       "    </tr>\n",
       "    <tr>\n",
       "      <th>2016-06-23</th>\n",
       "      <td>697.45</td>\n",
       "      <td>701.87</td>\n",
       "    </tr>\n",
       "    <tr>\n",
       "      <th>2016-06-24</th>\n",
       "      <td>675.17</td>\n",
       "      <td>675.22</td>\n",
       "    </tr>\n",
       "    <tr>\n",
       "      <th>2016-06-27</th>\n",
       "      <td>671.00</td>\n",
       "      <td>668.26</td>\n",
       "    </tr>\n",
       "  </tbody>\n",
       "</table>\n",
       "</div>"
      ],
      "text/plain": [
       "              open   close\n",
       "date                      \n",
       "2016-06-14  716.48  718.27\n",
       "2016-06-15  719.00  718.92\n",
       "2016-06-16  714.91  710.36\n",
       "2016-06-17  708.65  691.72\n",
       "2016-06-20  698.77  693.71\n",
       "2016-06-21  698.40  695.94\n",
       "2016-06-22  699.06  697.46\n",
       "2016-06-23  697.45  701.87\n",
       "2016-06-24  675.17  675.22\n",
       "2016-06-27  671.00  668.26"
      ]
     },
     "execution_count": 8,
     "metadata": {},
     "output_type": "execute_result"
    }
   ],
   "source": [
    "df = df[['date','open','close']] # Extracting required columns\n",
    "df['date'] = pd.to_datetime(df['date'].apply(lambda x: x.split()[0])) # converting object dtype of date column to datetime dtype\n",
    "df.set_index('date',drop=True,inplace=True) # Setting date column as index\n",
    "df.head(10)"
   ]
  },
  {
   "cell_type": "code",
   "execution_count": 9,
   "id": "b461a8e3",
   "metadata": {},
   "outputs": [
    {
     "data": {
      "image/png": "[encoded data removed]",
      "text/plain": [
       "<Figure size 1440x504 with 2 Axes>"
      ]
     },
     "metadata": {
      "needs_background": "light"
     },
     "output_type": "display_data"
    }
   ],
   "source": [
    "# plotting open and closing price on date index\n",
    "fig, ax =plt.subplots(1,2,figsize=(20,7))\n",
    "ax[0].plot(df['open'],label='Open',color='green')\n",
    "ax[0].set_xlabel('Date',size=15)\n",
    "ax[0].set_ylabel('Price',size=15)\n",
    "ax[0].legend()\n",
    "\n",
    "ax[1].plot(df['close'],label='Close',color='red')\n",
    "ax[1].set_xlabel('Date',size=15)\n",
    "ax[1].set_ylabel('Price',size=15)\n",
    "ax[1].legend()\n",
    "\n",
    "fig.show()\n"
   ]
  },
  {
   "cell_type": "markdown",
   "id": "62b06188",
   "metadata": {},
   "source": [
    "# STEP 3 : DATA PRE-PROCESSING"
   ]
  },
  {
   "cell_type": "code",
   "execution_count": 10,
   "id": "cfd68e81",
   "metadata": {},
   "outputs": [
    {
     "data": {
      "text/html": [
       "<div>\n",
       "<style scoped>\n",
       "    .dataframe tbody tr th:only-of-type {\n",
       "        vertical-align: middle;\n",
       "    }\n",
       "\n",
       "    .dataframe tbody tr th {\n",
       "        vertical-align: top;\n",
       "    }\n",
       "\n",
       "    .dataframe thead th {\n",
       "        text-align: right;\n",
       "    }\n",
       "</style>\n",
       "<table border=\"1\" class=\"dataframe\">\n",
       "  <thead>\n",
       "    <tr style=\"text-align: right;\">\n",
       "      <th></th>\n",
       "      <th>open</th>\n",
       "      <th>close</th>\n",
       "    </tr>\n",
       "    <tr>\n",
       "      <th>date</th>\n",
       "      <th></th>\n",
       "      <th></th>\n",
       "    </tr>\n",
       "  </thead>\n",
       "  <tbody>\n",
       "    <tr>\n",
       "      <th>2016-06-14</th>\n",
       "      <td>0.024532</td>\n",
       "      <td>0.026984</td>\n",
       "    </tr>\n",
       "    <tr>\n",
       "      <th>2016-06-15</th>\n",
       "      <td>0.025891</td>\n",
       "      <td>0.027334</td>\n",
       "    </tr>\n",
       "    <tr>\n",
       "      <th>2016-06-16</th>\n",
       "      <td>0.023685</td>\n",
       "      <td>0.022716</td>\n",
       "    </tr>\n",
       "    <tr>\n",
       "      <th>2016-06-17</th>\n",
       "      <td>0.020308</td>\n",
       "      <td>0.012658</td>\n",
       "    </tr>\n",
       "    <tr>\n",
       "      <th>2016-06-20</th>\n",
       "      <td>0.014979</td>\n",
       "      <td>0.013732</td>\n",
       "    </tr>\n",
       "    <tr>\n",
       "      <th>2016-06-21</th>\n",
       "      <td>0.014779</td>\n",
       "      <td>0.014935</td>\n",
       "    </tr>\n",
       "    <tr>\n",
       "      <th>2016-06-22</th>\n",
       "      <td>0.015135</td>\n",
       "      <td>0.015755</td>\n",
       "    </tr>\n",
       "    <tr>\n",
       "      <th>2016-06-23</th>\n",
       "      <td>0.014267</td>\n",
       "      <td>0.018135</td>\n",
       "    </tr>\n",
       "    <tr>\n",
       "      <th>2016-06-24</th>\n",
       "      <td>0.002249</td>\n",
       "      <td>0.003755</td>\n",
       "    </tr>\n",
       "    <tr>\n",
       "      <th>2016-06-27</th>\n",
       "      <td>0.000000</td>\n",
       "      <td>0.000000</td>\n",
       "    </tr>\n",
       "  </tbody>\n",
       "</table>\n",
       "</div>"
      ],
      "text/plain": [
       "                open     close\n",
       "date                          \n",
       "2016-06-14  0.024532  0.026984\n",
       "2016-06-15  0.025891  0.027334\n",
       "2016-06-16  0.023685  0.022716\n",
       "2016-06-17  0.020308  0.012658\n",
       "2016-06-20  0.014979  0.013732\n",
       "2016-06-21  0.014779  0.014935\n",
       "2016-06-22  0.015135  0.015755\n",
       "2016-06-23  0.014267  0.018135\n",
       "2016-06-24  0.002249  0.003755\n",
       "2016-06-27  0.000000  0.000000"
      ]
     },
     "execution_count": 10,
     "metadata": {},
     "output_type": "execute_result"
    }
   ],
   "source": [
    "# normalizing all the values of all columns using MinMaxScaler\n",
    "MMS = MinMaxScaler()\n",
    "df[df.columns] = MMS.fit_transform(df)\n",
    "df.head(10)"
   ]
  },
  {
   "cell_type": "code",
   "execution_count": 11,
   "id": "99a7d1e4",
   "metadata": {},
   "outputs": [
    {
     "data": {
      "text/plain": [
       "944"
      ]
     },
     "execution_count": 11,
     "metadata": {},
     "output_type": "execute_result"
    }
   ],
   "source": [
    "# splitting the data into training and test set\n",
    "training_size = round(len(df) * 0.75) # Selecting 75 % for training and 25 % for testing\n",
    "training_size"
   ]
  },
  {
   "cell_type": "code",
   "execution_count": 12,
   "id": "59e483bb",
   "metadata": {},
   "outputs": [
    {
     "data": {
      "text/plain": [
       "((944, 2), (314, 2))"
      ]
     },
     "execution_count": 12,
     "metadata": {},
     "output_type": "execute_result"
    }
   ],
   "source": [
    "train_data = df[:training_size]\n",
    "test_data  = df[training_size:]\n",
    "\n",
    "train_data.shape, test_data.shape"
   ]
  },
  {
   "cell_type": "code",
   "execution_count": 13,
   "id": "0623de07",
   "metadata": {},
   "outputs": [],
   "source": [
    "# Function to create sequence of data for training and testing\n",
    "\n",
    "def create_sequence(dataset):\n",
    "  sequences = []\n",
    "  labels = []\n",
    "\n",
    "  start_idx = 0\n",
    "\n",
    "  for stop_idx in range(50,len(dataset)): # Selecting 50 rows at a time\n",
    "    sequences.append(dataset.iloc[start_idx:stop_idx])\n",
    "    labels.append(dataset.iloc[stop_idx])\n",
    "    start_idx += 1\n",
    "  return (np.array(sequences),np.array(labels))"
   ]
  },
  {
   "cell_type": "code",
   "execution_count": 14,
   "id": "2f486b90",
   "metadata": {},
   "outputs": [
    {
     "data": {
      "text/plain": [
       "((894, 50, 2), (894, 2), (264, 50, 2), (264, 2))"
      ]
     },
     "execution_count": 14,
     "metadata": {},
     "output_type": "execute_result"
    }
   ],
   "source": [
    "train_seq, train_label = create_sequence(train_data) \n",
    "test_seq, test_label = create_sequence(test_data)\n",
    "train_seq.shape, train_label.shape, test_seq.shape, test_label.shape"
   ]
  },
  {
   "cell_type": "markdown",
   "id": "5f6bd732",
   "metadata": {},
   "source": [
    "# STEP 4 : CREATING LSTM MODEL"
   ]
  },
  {
   "cell_type": "code",
   "execution_count": 15,
   "id": "b09be57b",
   "metadata": {},
   "outputs": [
    {
     "name": "stdout",
     "output_type": "stream",
     "text": [
      "Model: \"sequential\"\n",
      "_________________________________________________________________\n",
      " Layer (type)                Output Shape              Param #   \n",
      "=================================================================\n",
      " lstm (LSTM)                 (None, 50, 50)            10600     \n",
      "                                                                 \n",
      " dropout (Dropout)           (None, 50, 50)            0         \n",
      "                                                                 \n",
      " lstm_1 (LSTM)               (None, 50)                20200     \n",
      "                                                                 \n",
      " dense (Dense)               (None, 2)                 102       \n",
      "                                                                 \n",
      "=================================================================\n",
      "Total params: 30902 (120.71 KB)\n",
      "Trainable params: 30902 (120.71 KB)\n",
      "Non-trainable params: 0 (0.00 Byte)\n",
      "_________________________________________________________________\n"
     ]
    }
   ],
   "source": [
    "# imported Sequential from keras.models \n",
    "model = Sequential()\n",
    "# importing Dense, Dropout, LSTM, Bidirectional from keras.layers \n",
    "model.add(LSTM(units=50, return_sequences=True, input_shape = (train_seq.shape[1], train_seq.shape[2])))\n",
    "\n",
    "model.add(Dropout(0.1)) \n",
    "model.add(LSTM(units=50))\n",
    "\n",
    "model.add(Dense(2))\n",
    "\n",
    "model.compile(loss='mean_squared_error', optimizer='adam', metrics=['mean_absolute_error'])\n",
    "\n",
    "model.summary()"
   ]
  },
  {
   "cell_type": "code",
   "execution_count": 16,
   "id": "12c9856b",
   "metadata": {},
   "outputs": [
    {
     "name": "stdout",
     "output_type": "stream",
     "text": [
      "Epoch 1/100\n",
      "28/28 [==============================] - 16s 154ms/step - loss: 0.0106 - mean_absolute_error: 0.0740 - val_loss: 0.0315 - val_mean_absolute_error: 0.1560\n",
      "Epoch 2/100\n",
      "28/28 [==============================] - 2s 84ms/step - loss: 0.0010 - mean_absolute_error: 0.0257 - val_loss: 0.0058 - val_mean_absolute_error: 0.0590\n",
      "Epoch 3/100\n",
      "28/28 [==============================] - 2s 75ms/step - loss: 4.5031e-04 - mean_absolute_error: 0.0159 - val_loss: 0.0032 - val_mean_absolute_error: 0.0431\n",
      "Epoch 4/100\n",
      "28/28 [==============================] - 2s 76ms/step - loss: 4.4221e-04 - mean_absolute_error: 0.0152 - val_loss: 0.0047 - val_mean_absolute_error: 0.0537\n",
      "Epoch 5/100\n",
      "28/28 [==============================] - 2s 75ms/step - loss: 4.2463e-04 - mean_absolute_error: 0.0151 - val_loss: 0.0039 - val_mean_absolute_error: 0.0474\n",
      "Epoch 6/100\n",
      "28/28 [==============================] - 2s 75ms/step - loss: 4.2732e-04 - mean_absolute_error: 0.0152 - val_loss: 0.0033 - val_mean_absolute_error: 0.0434\n",
      "Epoch 7/100\n",
      "28/28 [==============================] - 2s 75ms/step - loss: 4.1037e-04 - mean_absolute_error: 0.0149 - val_loss: 0.0032 - val_mean_absolute_error: 0.0425\n",
      "Epoch 8/100\n",
      "28/28 [==============================] - 2s 75ms/step - loss: 3.9249e-04 - mean_absolute_error: 0.0146 - val_loss: 0.0045 - val_mean_absolute_error: 0.0530\n",
      "Epoch 9/100\n",
      "28/28 [==============================] - 2s 75ms/step - loss: 4.0205e-04 - mean_absolute_error: 0.0147 - val_loss: 0.0038 - val_mean_absolute_error: 0.0473\n",
      "Epoch 10/100\n",
      "28/28 [==============================] - 2s 75ms/step - loss: 3.6506e-04 - mean_absolute_error: 0.0140 - val_loss: 0.0039 - val_mean_absolute_error: 0.0479\n",
      "Epoch 11/100\n",
      "28/28 [==============================] - 2s 76ms/step - loss: 3.9873e-04 - mean_absolute_error: 0.0145 - val_loss: 0.0040 - val_mean_absolute_error: 0.0492\n",
      "Epoch 12/100\n",
      "28/28 [==============================] - 2s 75ms/step - loss: 3.8110e-04 - mean_absolute_error: 0.0143 - val_loss: 0.0027 - val_mean_absolute_error: 0.0389\n",
      "Epoch 13/100\n",
      "28/28 [==============================] - 2s 75ms/step - loss: 3.7239e-04 - mean_absolute_error: 0.0140 - val_loss: 0.0041 - val_mean_absolute_error: 0.0494\n",
      "Epoch 14/100\n",
      "28/28 [==============================] - 2s 79ms/step - loss: 3.5581e-04 - mean_absolute_error: 0.0141 - val_loss: 0.0035 - val_mean_absolute_error: 0.0454\n",
      "Epoch 15/100\n",
      "28/28 [==============================] - 2s 76ms/step - loss: 3.5012e-04 - mean_absolute_error: 0.0136 - val_loss: 0.0039 - val_mean_absolute_error: 0.0484\n",
      "Epoch 16/100\n",
      "28/28 [==============================] - 2s 76ms/step - loss: 3.5671e-04 - mean_absolute_error: 0.0138 - val_loss: 0.0044 - val_mean_absolute_error: 0.0523\n",
      "Epoch 17/100\n",
      "28/28 [==============================] - 2s 75ms/step - loss: 3.3000e-04 - mean_absolute_error: 0.0131 - val_loss: 0.0046 - val_mean_absolute_error: 0.0530\n",
      "Epoch 18/100\n",
      "28/28 [==============================] - 2s 75ms/step - loss: 3.2206e-04 - mean_absolute_error: 0.0130 - val_loss: 0.0044 - val_mean_absolute_error: 0.0523\n",
      "Epoch 19/100\n",
      "28/28 [==============================] - 2s 77ms/step - loss: 3.2277e-04 - mean_absolute_error: 0.0133 - val_loss: 0.0039 - val_mean_absolute_error: 0.0483\n",
      "Epoch 20/100\n",
      "28/28 [==============================] - 2s 75ms/step - loss: 3.2257e-04 - mean_absolute_error: 0.0133 - val_loss: 0.0068 - val_mean_absolute_error: 0.0678\n",
      "Epoch 21/100\n",
      "28/28 [==============================] - 2s 75ms/step - loss: 3.1352e-04 - mean_absolute_error: 0.0130 - val_loss: 0.0050 - val_mean_absolute_error: 0.0570\n",
      "Epoch 22/100\n",
      "28/28 [==============================] - 2s 75ms/step - loss: 3.4840e-04 - mean_absolute_error: 0.0136 - val_loss: 0.0056 - val_mean_absolute_error: 0.0591\n",
      "Epoch 23/100\n",
      "28/28 [==============================] - 2s 76ms/step - loss: 2.9024e-04 - mean_absolute_error: 0.0124 - val_loss: 0.0047 - val_mean_absolute_error: 0.0535\n",
      "Epoch 24/100\n",
      "28/28 [==============================] - 2s 75ms/step - loss: 2.9119e-04 - mean_absolute_error: 0.0124 - val_loss: 0.0063 - val_mean_absolute_error: 0.0632\n",
      "Epoch 25/100\n",
      "28/28 [==============================] - 2s 76ms/step - loss: 2.9291e-04 - mean_absolute_error: 0.0128 - val_loss: 0.0040 - val_mean_absolute_error: 0.0479\n",
      "Epoch 26/100\n",
      "28/28 [==============================] - 2s 76ms/step - loss: 2.8667e-04 - mean_absolute_error: 0.0124 - val_loss: 0.0037 - val_mean_absolute_error: 0.0460\n",
      "Epoch 27/100\n",
      "28/28 [==============================] - 2s 76ms/step - loss: 2.8042e-04 - mean_absolute_error: 0.0122 - val_loss: 0.0058 - val_mean_absolute_error: 0.0611\n",
      "Epoch 28/100\n",
      "28/28 [==============================] - 2s 76ms/step - loss: 2.9120e-04 - mean_absolute_error: 0.0124 - val_loss: 0.0061 - val_mean_absolute_error: 0.0622\n",
      "Epoch 29/100\n",
      "28/28 [==============================] - 2s 77ms/step - loss: 2.9318e-04 - mean_absolute_error: 0.0125 - val_loss: 0.0043 - val_mean_absolute_error: 0.0504\n",
      "Epoch 30/100\n",
      "28/28 [==============================] - 2s 77ms/step - loss: 2.6041e-04 - mean_absolute_error: 0.0120 - val_loss: 0.0044 - val_mean_absolute_error: 0.0507\n",
      "Epoch 31/100\n",
      "28/28 [==============================] - 2s 76ms/step - loss: 2.6725e-04 - mean_absolute_error: 0.0119 - val_loss: 0.0053 - val_mean_absolute_error: 0.0554\n",
      "Epoch 32/100\n",
      "28/28 [==============================] - 2s 78ms/step - loss: 2.7886e-04 - mean_absolute_error: 0.0121 - val_loss: 0.0077 - val_mean_absolute_error: 0.0709\n",
      "Epoch 33/100\n",
      "28/28 [==============================] - 2s 76ms/step - loss: 2.6374e-04 - mean_absolute_error: 0.0119 - val_loss: 0.0039 - val_mean_absolute_error: 0.0469\n",
      "Epoch 34/100\n",
      "28/28 [==============================] - 2s 75ms/step - loss: 2.9995e-04 - mean_absolute_error: 0.0128 - val_loss: 0.0029 - val_mean_absolute_error: 0.0390\n",
      "Epoch 35/100\n",
      "28/28 [==============================] - 2s 77ms/step - loss: 2.8575e-04 - mean_absolute_error: 0.0124 - val_loss: 0.0068 - val_mean_absolute_error: 0.0671\n",
      "Epoch 36/100\n",
      "28/28 [==============================] - 2s 77ms/step - loss: 2.5771e-04 - mean_absolute_error: 0.0118 - val_loss: 0.0030 - val_mean_absolute_error: 0.0396\n",
      "Epoch 37/100\n",
      "28/28 [==============================] - 2s 78ms/step - loss: 2.4214e-04 - mean_absolute_error: 0.0115 - val_loss: 0.0039 - val_mean_absolute_error: 0.0465\n",
      "Epoch 38/100\n",
      "28/28 [==============================] - 2s 77ms/step - loss: 2.4067e-04 - mean_absolute_error: 0.0112 - val_loss: 0.0040 - val_mean_absolute_error: 0.0484\n",
      "Epoch 39/100\n",
      "28/28 [==============================] - 2s 76ms/step - loss: 2.4069e-04 - mean_absolute_error: 0.0113 - val_loss: 0.0062 - val_mean_absolute_error: 0.0624\n",
      "Epoch 40/100\n",
      "28/28 [==============================] - 2s 76ms/step - loss: 2.3395e-04 - mean_absolute_error: 0.0112 - val_loss: 0.0050 - val_mean_absolute_error: 0.0546\n",
      "Epoch 41/100\n",
      "28/28 [==============================] - 2s 77ms/step - loss: 2.2176e-04 - mean_absolute_error: 0.0109 - val_loss: 0.0036 - val_mean_absolute_error: 0.0442\n",
      "Epoch 42/100\n",
      "28/28 [==============================] - 2s 78ms/step - loss: 2.3520e-04 - mean_absolute_error: 0.0114 - val_loss: 0.0060 - val_mean_absolute_error: 0.0610\n",
      "Epoch 43/100\n",
      "28/28 [==============================] - 2s 76ms/step - loss: 2.3473e-04 - mean_absolute_error: 0.0112 - val_loss: 0.0064 - val_mean_absolute_error: 0.0638\n",
      "Epoch 44/100\n",
      "28/28 [==============================] - 2s 81ms/step - loss: 2.1798e-04 - mean_absolute_error: 0.0108 - val_loss: 0.0029 - val_mean_absolute_error: 0.0389\n",
      "Epoch 45/100\n",
      "28/28 [==============================] - 2s 80ms/step - loss: 2.3446e-04 - mean_absolute_error: 0.0112 - val_loss: 0.0038 - val_mean_absolute_error: 0.0450\n",
      "Epoch 46/100\n",
      "28/28 [==============================] - 2s 81ms/step - loss: 2.1969e-04 - mean_absolute_error: 0.0107 - val_loss: 0.0056 - val_mean_absolute_error: 0.0587\n",
      "Epoch 47/100\n",
      "28/28 [==============================] - 2s 87ms/step - loss: 2.1493e-04 - mean_absolute_error: 0.0107 - val_loss: 0.0061 - val_mean_absolute_error: 0.0617\n",
      "Epoch 48/100\n",
      "28/28 [==============================] - 2s 81ms/step - loss: 2.0905e-04 - mean_absolute_error: 0.0104 - val_loss: 0.0068 - val_mean_absolute_error: 0.0655\n",
      "Epoch 49/100\n",
      "28/28 [==============================] - 2s 81ms/step - loss: 2.1322e-04 - mean_absolute_error: 0.0107 - val_loss: 0.0054 - val_mean_absolute_error: 0.0569\n",
      "Epoch 50/100\n",
      "28/28 [==============================] - 3s 113ms/step - loss: 2.0366e-04 - mean_absolute_error: 0.0104 - val_loss: 0.0038 - val_mean_absolute_error: 0.0455\n",
      "Epoch 51/100\n",
      "28/28 [==============================] - 3s 90ms/step - loss: 2.2060e-04 - mean_absolute_error: 0.0107 - val_loss: 0.0048 - val_mean_absolute_error: 0.0533\n",
      "Epoch 52/100\n",
      "28/28 [==============================] - 4s 128ms/step - loss: 2.2942e-04 - mean_absolute_error: 0.0112 - val_loss: 0.0073 - val_mean_absolute_error: 0.0693\n",
      "Epoch 53/100\n",
      "28/28 [==============================] - 4s 140ms/step - loss: 2.1156e-04 - mean_absolute_error: 0.0106 - val_loss: 0.0032 - val_mean_absolute_error: 0.0407\n",
      "Epoch 54/100\n",
      "28/28 [==============================] - 4s 124ms/step - loss: 1.9374e-04 - mean_absolute_error: 0.0101 - val_loss: 0.0035 - val_mean_absolute_error: 0.0440\n",
      "Epoch 55/100\n",
      "28/28 [==============================] - 3s 105ms/step - loss: 1.9690e-04 - mean_absolute_error: 0.0102 - val_loss: 0.0028 - val_mean_absolute_error: 0.0379\n",
      "Epoch 56/100\n",
      "28/28 [==============================] - 3s 122ms/step - loss: 1.9556e-04 - mean_absolute_error: 0.0101 - val_loss: 0.0025 - val_mean_absolute_error: 0.0358\n",
      "Epoch 57/100\n",
      "28/28 [==============================] - 3s 116ms/step - loss: 1.9312e-04 - mean_absolute_error: 0.0103 - val_loss: 0.0050 - val_mean_absolute_error: 0.0564\n",
      "Epoch 58/100\n",
      "28/28 [==============================] - 4s 139ms/step - loss: 1.9554e-04 - mean_absolute_error: 0.0103 - val_loss: 0.0030 - val_mean_absolute_error: 0.0404\n",
      "Epoch 59/100\n",
      "28/28 [==============================] - 4s 132ms/step - loss: 1.7673e-04 - mean_absolute_error: 0.0095 - val_loss: 0.0030 - val_mean_absolute_error: 0.0410\n",
      "Epoch 60/100\n",
      "28/28 [==============================] - 3s 121ms/step - loss: 1.8365e-04 - mean_absolute_error: 0.0098 - val_loss: 0.0032 - val_mean_absolute_error: 0.0415\n",
      "Epoch 61/100\n",
      "28/28 [==============================] - 3s 116ms/step - loss: 1.7457e-04 - mean_absolute_error: 0.0095 - val_loss: 0.0042 - val_mean_absolute_error: 0.0491\n",
      "Epoch 62/100\n",
      "28/28 [==============================] - 3s 118ms/step - loss: 1.6860e-04 - mean_absolute_error: 0.0094 - val_loss: 0.0036 - val_mean_absolute_error: 0.0450\n",
      "Epoch 63/100\n",
      "28/28 [==============================] - 3s 114ms/step - loss: 1.7937e-04 - mean_absolute_error: 0.0096 - val_loss: 0.0046 - val_mean_absolute_error: 0.0522\n",
      "Epoch 64/100\n",
      "28/28 [==============================] - 4s 159ms/step - loss: 1.6766e-04 - mean_absolute_error: 0.0094 - val_loss: 0.0041 - val_mean_absolute_error: 0.0488\n",
      "Epoch 65/100\n",
      "28/28 [==============================] - 3s 104ms/step - loss: 1.6820e-04 - mean_absolute_error: 0.0094 - val_loss: 0.0039 - val_mean_absolute_error: 0.0461\n",
      "Epoch 66/100\n",
      "28/28 [==============================] - 2s 88ms/step - loss: 1.6844e-04 - mean_absolute_error: 0.0093 - val_loss: 0.0033 - val_mean_absolute_error: 0.0418\n",
      "Epoch 67/100\n",
      "28/28 [==============================] - 3s 96ms/step - loss: 1.8672e-04 - mean_absolute_error: 0.0100 - val_loss: 0.0030 - val_mean_absolute_error: 0.0401\n",
      "Epoch 68/100\n",
      "28/28 [==============================] - 2s 80ms/step - loss: 1.6956e-04 - mean_absolute_error: 0.0095 - val_loss: 0.0037 - val_mean_absolute_error: 0.0459\n",
      "Epoch 69/100\n",
      "28/28 [==============================] - 2s 88ms/step - loss: 1.6425e-04 - mean_absolute_error: 0.0091 - val_loss: 0.0036 - val_mean_absolute_error: 0.0448\n",
      "Epoch 70/100\n",
      "28/28 [==============================] - 3s 102ms/step - loss: 1.5739e-04 - mean_absolute_error: 0.0091 - val_loss: 0.0036 - val_mean_absolute_error: 0.0451\n",
      "Epoch 71/100\n",
      "28/28 [==============================] - 2s 78ms/step - loss: 1.7055e-04 - mean_absolute_error: 0.0094 - val_loss: 0.0028 - val_mean_absolute_error: 0.0377\n",
      "Epoch 72/100\n",
      "28/28 [==============================] - 2s 87ms/step - loss: 1.5750e-04 - mean_absolute_error: 0.0091 - val_loss: 0.0037 - val_mean_absolute_error: 0.0454\n",
      "Epoch 73/100\n",
      "28/28 [==============================] - 2s 87ms/step - loss: 1.4855e-04 - mean_absolute_error: 0.0087 - val_loss: 0.0037 - val_mean_absolute_error: 0.0459\n",
      "Epoch 74/100\n",
      "28/28 [==============================] - 2s 82ms/step - loss: 1.5599e-04 - mean_absolute_error: 0.0088 - val_loss: 0.0027 - val_mean_absolute_error: 0.0377\n",
      "Epoch 75/100\n",
      "28/28 [==============================] - 2s 87ms/step - loss: 1.4993e-04 - mean_absolute_error: 0.0088 - val_loss: 0.0028 - val_mean_absolute_error: 0.0386\n",
      "Epoch 76/100\n",
      "28/28 [==============================] - 2s 80ms/step - loss: 1.4796e-04 - mean_absolute_error: 0.0087 - val_loss: 0.0032 - val_mean_absolute_error: 0.0415\n",
      "Epoch 77/100\n",
      "28/28 [==============================] - 2s 85ms/step - loss: 1.4922e-04 - mean_absolute_error: 0.0090 - val_loss: 0.0027 - val_mean_absolute_error: 0.0374\n",
      "Epoch 78/100\n",
      "28/28 [==============================] - 2s 77ms/step - loss: 1.4678e-04 - mean_absolute_error: 0.0086 - val_loss: 0.0026 - val_mean_absolute_error: 0.0370\n",
      "Epoch 79/100\n",
      "28/28 [==============================] - 2s 86ms/step - loss: 1.5167e-04 - mean_absolute_error: 0.0089 - val_loss: 0.0054 - val_mean_absolute_error: 0.0582\n",
      "Epoch 80/100\n",
      "28/28 [==============================] - 2s 82ms/step - loss: 1.5490e-04 - mean_absolute_error: 0.0089 - val_loss: 0.0030 - val_mean_absolute_error: 0.0403\n",
      "Epoch 81/100\n",
      "28/28 [==============================] - 2s 85ms/step - loss: 1.4789e-04 - mean_absolute_error: 0.0089 - val_loss: 0.0044 - val_mean_absolute_error: 0.0515\n",
      "Epoch 82/100\n",
      "28/28 [==============================] - 2s 81ms/step - loss: 1.3324e-04 - mean_absolute_error: 0.0083 - val_loss: 0.0022 - val_mean_absolute_error: 0.0334\n",
      "Epoch 83/100\n",
      "28/28 [==============================] - 2s 77ms/step - loss: 1.4197e-04 - mean_absolute_error: 0.0086 - val_loss: 0.0034 - val_mean_absolute_error: 0.0420\n",
      "Epoch 84/100\n",
      "28/28 [==============================] - 3s 92ms/step - loss: 1.3485e-04 - mean_absolute_error: 0.0084 - val_loss: 0.0034 - val_mean_absolute_error: 0.0433\n",
      "Epoch 85/100\n",
      "28/28 [==============================] - 2s 87ms/step - loss: 1.4512e-04 - mean_absolute_error: 0.0087 - val_loss: 0.0030 - val_mean_absolute_error: 0.0404\n",
      "Epoch 86/100\n",
      "28/28 [==============================] - 2s 83ms/step - loss: 1.3422e-04 - mean_absolute_error: 0.0083 - val_loss: 0.0050 - val_mean_absolute_error: 0.0543\n",
      "Epoch 87/100\n",
      "28/28 [==============================] - 2s 89ms/step - loss: 1.2477e-04 - mean_absolute_error: 0.0080 - val_loss: 0.0046 - val_mean_absolute_error: 0.0518\n",
      "Epoch 88/100\n",
      "28/28 [==============================] - 3s 91ms/step - loss: 1.2997e-04 - mean_absolute_error: 0.0083 - val_loss: 0.0035 - val_mean_absolute_error: 0.0431\n",
      "Epoch 89/100\n",
      "28/28 [==============================] - 3s 90ms/step - loss: 1.2021e-04 - mean_absolute_error: 0.0080 - val_loss: 0.0045 - val_mean_absolute_error: 0.0516\n",
      "Epoch 90/100\n",
      "28/28 [==============================] - 3s 91ms/step - loss: 1.3533e-04 - mean_absolute_error: 0.0083 - val_loss: 0.0044 - val_mean_absolute_error: 0.0501\n",
      "Epoch 91/100\n",
      "28/28 [==============================] - 2s 82ms/step - loss: 1.3275e-04 - mean_absolute_error: 0.0082 - val_loss: 0.0039 - val_mean_absolute_error: 0.0472\n",
      "Epoch 92/100\n",
      "28/28 [==============================] - 2s 86ms/step - loss: 1.3356e-04 - mean_absolute_error: 0.0084 - val_loss: 0.0032 - val_mean_absolute_error: 0.0410\n",
      "Epoch 93/100\n",
      "28/28 [==============================] - 3s 93ms/step - loss: 1.2880e-04 - mean_absolute_error: 0.0082 - val_loss: 0.0042 - val_mean_absolute_error: 0.0489\n",
      "Epoch 94/100\n",
      "28/28 [==============================] - 2s 81ms/step - loss: 1.2156e-04 - mean_absolute_error: 0.0080 - val_loss: 0.0045 - val_mean_absolute_error: 0.0499\n",
      "Epoch 95/100\n",
      "28/28 [==============================] - 2s 90ms/step - loss: 1.2352e-04 - mean_absolute_error: 0.0079 - val_loss: 0.0042 - val_mean_absolute_error: 0.0478\n",
      "Epoch 96/100\n",
      "28/28 [==============================] - 2s 81ms/step - loss: 1.1058e-04 - mean_absolute_error: 0.0075 - val_loss: 0.0037 - val_mean_absolute_error: 0.0441\n",
      "Epoch 97/100\n",
      "28/28 [==============================] - 2s 75ms/step - loss: 1.1825e-04 - mean_absolute_error: 0.0077 - val_loss: 0.0025 - val_mean_absolute_error: 0.0358\n",
      "Epoch 98/100\n",
      "28/28 [==============================] - 2s 75ms/step - loss: 1.2328e-04 - mean_absolute_error: 0.0080 - val_loss: 0.0035 - val_mean_absolute_error: 0.0431\n",
      "Epoch 99/100\n",
      "28/28 [==============================] - 2s 77ms/step - loss: 1.1734e-04 - mean_absolute_error: 0.0077 - val_loss: 0.0028 - val_mean_absolute_error: 0.0381\n",
      "Epoch 100/100\n",
      "28/28 [==============================] - 2s 77ms/step - loss: 1.1473e-04 - mean_absolute_error: 0.0075 - val_loss: 0.0029 - val_mean_absolute_error: 0.0390\n"
     ]
    },
    {
     "data": {
      "text/plain": [
       "<keras.src.callbacks.History at 0x212e6d29ac0>"
      ]
     },
     "execution_count": 16,
     "metadata": {},
     "output_type": "execute_result"
    }
   ],
   "source": [
    "# fitting the model by iterating the dataset over 100 times(100 epochs)\n",
    "model.fit(train_seq, train_label, epochs=100,validation_data=(test_seq, test_label), verbose=1)"
   ]
  },
  {
   "cell_type": "code",
   "execution_count": 17,
   "id": "1b634752",
   "metadata": {},
   "outputs": [
    {
     "name": "stdout",
     "output_type": "stream",
     "text": [
      "9/9 [==============================] - 2s 24ms/step\n"
     ]
    },
    {
     "data": {
      "text/plain": [
       "array([[0.40514436, 0.4108943 ],\n",
       "       [0.40495715, 0.41080454],\n",
       "       [0.4020918 , 0.40813965],\n",
       "       [0.40503672, 0.4112474 ],\n",
       "       [0.40881243, 0.41513464]], dtype=float32)"
      ]
     },
     "execution_count": 17,
     "metadata": {},
     "output_type": "execute_result"
    }
   ],
   "source": [
    "# predicting the values after running the model\n",
    "test_predicted = model.predict(test_seq)\n",
    "test_predicted[:5]"
   ]
  },
  {
   "cell_type": "code",
   "execution_count": 18,
   "id": "b7b5898e",
   "metadata": {},
   "outputs": [
    {
     "data": {
      "text/plain": [
       "array([[1422.1052, 1429.7869],\n",
       "       [1421.758 , 1429.6205],\n",
       "       [1416.446 , 1424.6815],\n",
       "       [1421.9056, 1430.4413],\n",
       "       [1428.9055, 1437.6456]], dtype=float32)"
      ]
     },
     "execution_count": 18,
     "metadata": {},
     "output_type": "execute_result"
    }
   ],
   "source": [
    "# Inversing normalization/scaling on predicted data \n",
    "test_inverse_predicted = MMS.inverse_transform(test_predicted)\n",
    "test_inverse_predicted[:5]"
   ]
  },
  {
   "cell_type": "markdown",
   "id": "fe204098",
   "metadata": {},
   "source": [
    "# STEP 5 : VISUALIZING ACTUAL VS PREDICTED DATA"
   ]
  },
  {
   "cell_type": "code",
   "execution_count": 19,
   "id": "a3f86c3e",
   "metadata": {},
   "outputs": [],
   "source": [
    "# Merging actual and predicted data for better visualization\n",
    "df_merge = pd.concat([df.iloc[-264:].copy(),\n",
    "                          pd.DataFrame(test_inverse_predicted,columns=['open_predicted','close_predicted'],\n",
    "                                       index=df.iloc[-264:].index)], axis=1)\n"
   ]
  },
  {
   "cell_type": "code",
   "execution_count": 20,
   "id": "c990b0cd",
   "metadata": {},
   "outputs": [
    {
     "data": {
      "text/html": [
       "<div>\n",
       "<style scoped>\n",
       "    .dataframe tbody tr th:only-of-type {\n",
       "        vertical-align: middle;\n",
       "    }\n",
       "\n",
       "    .dataframe tbody tr th {\n",
       "        vertical-align: top;\n",
       "    }\n",
       "\n",
       "    .dataframe thead th {\n",
       "        text-align: right;\n",
       "    }\n",
       "</style>\n",
       "<table border=\"1\" class=\"dataframe\">\n",
       "  <thead>\n",
       "    <tr style=\"text-align: right;\">\n",
       "      <th></th>\n",
       "      <th>open</th>\n",
       "      <th>close</th>\n",
       "      <th>open_predicted</th>\n",
       "      <th>close_predicted</th>\n",
       "    </tr>\n",
       "    <tr>\n",
       "      <th>date</th>\n",
       "      <th></th>\n",
       "      <th></th>\n",
       "      <th></th>\n",
       "      <th></th>\n",
       "    </tr>\n",
       "  </thead>\n",
       "  <tbody>\n",
       "    <tr>\n",
       "      <th>2020-05-27</th>\n",
       "      <td>1417.25</td>\n",
       "      <td>1417.84</td>\n",
       "      <td>1422.105225</td>\n",
       "      <td>1429.786865</td>\n",
       "    </tr>\n",
       "    <tr>\n",
       "      <th>2020-05-28</th>\n",
       "      <td>1396.86</td>\n",
       "      <td>1416.73</td>\n",
       "      <td>1421.758057</td>\n",
       "      <td>1429.620483</td>\n",
       "    </tr>\n",
       "    <tr>\n",
       "      <th>2020-05-29</th>\n",
       "      <td>1416.94</td>\n",
       "      <td>1428.92</td>\n",
       "      <td>1416.446045</td>\n",
       "      <td>1424.681519</td>\n",
       "    </tr>\n",
       "    <tr>\n",
       "      <th>2020-06-01</th>\n",
       "      <td>1418.39</td>\n",
       "      <td>1431.82</td>\n",
       "      <td>1421.905640</td>\n",
       "      <td>1430.441284</td>\n",
       "    </tr>\n",
       "    <tr>\n",
       "      <th>2020-06-02</th>\n",
       "      <td>1430.55</td>\n",
       "      <td>1439.22</td>\n",
       "      <td>1428.905518</td>\n",
       "      <td>1437.645630</td>\n",
       "    </tr>\n",
       "  </tbody>\n",
       "</table>\n",
       "</div>"
      ],
      "text/plain": [
       "               open    close  open_predicted  close_predicted\n",
       "date                                                         \n",
       "2020-05-27  1417.25  1417.84     1422.105225      1429.786865\n",
       "2020-05-28  1396.86  1416.73     1421.758057      1429.620483\n",
       "2020-05-29  1416.94  1428.92     1416.446045      1424.681519\n",
       "2020-06-01  1418.39  1431.82     1421.905640      1430.441284\n",
       "2020-06-02  1430.55  1439.22     1428.905518      1437.645630"
      ]
     },
     "execution_count": 20,
     "metadata": {},
     "output_type": "execute_result"
    }
   ],
   "source": [
    "# Inversing normalization/scaling \n",
    "df_merge[['open','close']] = MMS.inverse_transform(df_merge[['open','close']])\n",
    "df_merge.head()"
   ]
  },
  {
   "cell_type": "code",
   "execution_count": 21,
   "id": "c3dec94d",
   "metadata": {},
   "outputs": [
    {
     "data": {
      "image/png": "[encoded data removed]",
      "text/plain": [
       "<Figure size 720x432 with 1 Axes>"
      ]
     },
     "metadata": {
      "needs_background": "light"
     },
     "output_type": "display_data"
    }
   ],
   "source": [
    "# plotting the actual open and predicted open prices on date index\n",
    "df_merge[['open','open_predicted']].plot(figsize=(10,6))\n",
    "plt.xticks(rotation=45)\n",
    "plt.xlabel('Date',size=15)\n",
    "plt.ylabel('Stock Price',size=15)\n",
    "plt.title('Actual vs Predicted for open price',size=15)\n",
    "plt.show()"
   ]
  },
  {
   "cell_type": "code",
   "execution_count": 22,
   "id": "60568884",
   "metadata": {},
   "outputs": [
    {
     "data": {
      "image/png": "[encoded data removed]",
      "text/plain": [
       "<Figure size 720x432 with 1 Axes>"
      ]
     },
     "metadata": {
      "needs_background": "light"
     },
     "output_type": "display_data"
    }
   ],
   "source": [
    "# plotting the actual close and predicted close prices on date index \n",
    "df_merge[['close','close_predicted']].plot(figsize=(10,6))\n",
    "plt.xticks(rotation=45)\n",
    "plt.xlabel('Date',size=15)\n",
    "plt.ylabel('Stock Price',size=15)\n",
    "plt.title('Actual vs Predicted for close price',size=15)\n",
    "plt.show()"
   ]
  },
  {
   "cell_type": "markdown",
   "id": "55979793",
   "metadata": {},
   "source": [
    "# STEP 6. PREDICTING UPCOMING 10 DAYS"
   ]
  },
  {
   "cell_type": "code",
   "execution_count": 23,
   "id": "c9945acd",
   "metadata": {},
   "outputs": [
    {
     "data": {
      "text/html": [
       "<div>\n",
       "<style scoped>\n",
       "    .dataframe tbody tr th:only-of-type {\n",
       "        vertical-align: middle;\n",
       "    }\n",
       "\n",
       "    .dataframe tbody tr th {\n",
       "        vertical-align: top;\n",
       "    }\n",
       "\n",
       "    .dataframe thead th {\n",
       "        text-align: right;\n",
       "    }\n",
       "</style>\n",
       "<table border=\"1\" class=\"dataframe\">\n",
       "  <thead>\n",
       "    <tr style=\"text-align: right;\">\n",
       "      <th></th>\n",
       "      <th>open</th>\n",
       "      <th>close</th>\n",
       "      <th>open_predicted</th>\n",
       "      <th>close_predicted</th>\n",
       "    </tr>\n",
       "  </thead>\n",
       "  <tbody>\n",
       "    <tr>\n",
       "      <th>2021-06-09</th>\n",
       "      <td>2499.5</td>\n",
       "      <td>2491.4</td>\n",
       "      <td>2241.160889</td>\n",
       "      <td>2321.660889</td>\n",
       "    </tr>\n",
       "    <tr>\n",
       "      <th>2021-06-10</th>\n",
       "      <td>2494.01</td>\n",
       "      <td>2521.6</td>\n",
       "      <td>2244.503662</td>\n",
       "      <td>2326.6521</td>\n",
       "    </tr>\n",
       "    <tr>\n",
       "      <th>2021-06-11</th>\n",
       "      <td>2524.92</td>\n",
       "      <td>2513.93</td>\n",
       "      <td>2253.627686</td>\n",
       "      <td>2337.477539</td>\n",
       "    </tr>\n",
       "    <tr>\n",
       "      <th>2021-06-12</th>\n",
       "      <td>NaN</td>\n",
       "      <td>NaN</td>\n",
       "      <td>NaN</td>\n",
       "      <td>NaN</td>\n",
       "    </tr>\n",
       "    <tr>\n",
       "      <th>2021-06-13</th>\n",
       "      <td>NaN</td>\n",
       "      <td>NaN</td>\n",
       "      <td>NaN</td>\n",
       "      <td>NaN</td>\n",
       "    </tr>\n",
       "    <tr>\n",
       "      <th>2021-06-14</th>\n",
       "      <td>NaN</td>\n",
       "      <td>NaN</td>\n",
       "      <td>NaN</td>\n",
       "      <td>NaN</td>\n",
       "    </tr>\n",
       "    <tr>\n",
       "      <th>2021-06-15</th>\n",
       "      <td>NaN</td>\n",
       "      <td>NaN</td>\n",
       "      <td>NaN</td>\n",
       "      <td>NaN</td>\n",
       "    </tr>\n",
       "    <tr>\n",
       "      <th>2021-06-16</th>\n",
       "      <td>NaN</td>\n",
       "      <td>NaN</td>\n",
       "      <td>NaN</td>\n",
       "      <td>NaN</td>\n",
       "    </tr>\n",
       "  </tbody>\n",
       "</table>\n",
       "</div>"
      ],
      "text/plain": [
       "               open    close open_predicted close_predicted\n",
       "2021-06-09   2499.5   2491.4    2241.160889     2321.660889\n",
       "2021-06-10  2494.01   2521.6    2244.503662       2326.6521\n",
       "2021-06-11  2524.92  2513.93    2253.627686     2337.477539\n",
       "2021-06-12      NaN      NaN            NaN             NaN\n",
       "2021-06-13      NaN      NaN            NaN             NaN\n",
       "2021-06-14      NaN      NaN            NaN             NaN\n",
       "2021-06-15      NaN      NaN            NaN             NaN\n",
       "2021-06-16      NaN      NaN            NaN             NaN"
      ]
     },
     "execution_count": 23,
     "metadata": {},
     "output_type": "execute_result"
    }
   ],
   "source": [
    "# Creating a dataframe and adding 10 days to existing index \n",
    "\n",
    "df_merge = df_merge.append(pd.DataFrame(columns=df_merge.columns,\n",
    "                                        index=pd.date_range(start=df_merge.index[-1], periods=11, freq='D', closed='right')))\n",
    "df_merge['2021-06-09':'2021-06-16']"
   ]
  },
  {
   "cell_type": "code",
   "execution_count": 24,
   "id": "7c7bf464",
   "metadata": {},
   "outputs": [],
   "source": [
    "# creating a DataFrame and filling values of open and close column\n",
    "upcoming_prediction = pd.DataFrame(columns=['open','close'],index=df_merge.index)\n",
    "upcoming_prediction.index=pd.to_datetime(upcoming_prediction.index)"
   ]
  },
  {
   "cell_type": "code",
   "execution_count": 25,
   "id": "3792609a",
   "metadata": {},
   "outputs": [
    {
     "name": "stdout",
     "output_type": "stream",
     "text": [
      "1/1 [==============================] - 0s 195ms/step\n",
      "1/1 [==============================] - 0s 43ms/step\n",
      "1/1 [==============================] - 0s 45ms/step\n",
      "1/1 [==============================] - 0s 49ms/step\n",
      "1/1 [==============================] - 0s 49ms/step\n",
      "1/1 [==============================] - 0s 47ms/step\n",
      "1/1 [==============================] - 0s 46ms/step\n",
      "1/1 [==============================] - 0s 56ms/step\n",
      "1/1 [==============================] - 0s 48ms/step\n",
      "1/1 [==============================] - 0s 50ms/step\n"
     ]
    }
   ],
   "source": [
    "curr_seq = test_seq[-1:]\n",
    "\n",
    "for i in range(-10,0):\n",
    "  up_pred = model.predict(curr_seq)\n",
    "  upcoming_prediction.iloc[i] = up_pred\n",
    "  curr_seq = np.append(curr_seq[0][1:],up_pred,axis=0)\n",
    "  curr_seq = curr_seq.reshape(test_seq[-1:].shape)"
   ]
  },
  {
   "cell_type": "code",
   "execution_count": 26,
   "id": "1e998e8b",
   "metadata": {},
   "outputs": [],
   "source": [
    "# inversing Normalization/scaling\n",
    "upcoming_prediction[['open','close']] = MMS.inverse_transform(upcoming_prediction[['open','close']])"
   ]
  },
  {
   "cell_type": "code",
   "execution_count": 27,
   "id": "e0e8dc0a",
   "metadata": {},
   "outputs": [
    {
     "data": {
      "image/png": "[encoded data removed]",
      "text/plain": [
       "<Figure size 720x360 with 1 Axes>"
      ]
     },
     "metadata": {
      "needs_background": "light"
     },
     "output_type": "display_data"
    }
   ],
   "source": [
    "# plotting Upcoming Open price on date index\n",
    "fig,ax=plt.subplots(figsize=(10,5))\n",
    "ax.plot(df_merge.loc['2021-04-01':,'open'],label='Current Open Price')\n",
    "ax.plot(upcoming_prediction.loc['2021-04-01':,'open'],label='Upcoming Open Price')\n",
    "plt.setp(ax.xaxis.get_majorticklabels(), rotation=45)\n",
    "ax.set_xlabel('Date',size=15)\n",
    "ax.set_ylabel('Stock Price',size=15)\n",
    "ax.set_title('Upcoming Open price prediction',size=15)\n",
    "ax.legend()\n",
    "fig.show()\n"
   ]
  },
  {
   "cell_type": "code",
   "execution_count": 28,
   "id": "5b002abe",
   "metadata": {},
   "outputs": [
    {
     "data": {
      "image/png": "[encoded data removed]",
      "text/plain": [
       "<Figure size 720x360 with 1 Axes>"
      ]
     },
     "metadata": {
      "needs_background": "light"
     },
     "output_type": "display_data"
    }
   ],
   "source": [
    "# plotting Upcoming Close price on date index\n",
    "fig,ax=plt.subplots(figsize=(10,5))\n",
    "ax.plot(df_merge.loc['2021-04-01':,'close'],label='Current close Price')\n",
    "ax.plot(upcoming_prediction.loc['2021-04-01':,'close'],label='Upcoming close Price')\n",
    "plt.setp(ax.xaxis.get_majorticklabels(), rotation=45)\n",
    "ax.set_xlabel('Date',size=15)\n",
    "ax.set_ylabel('Stock Price',size=15)\n",
    "ax.set_title('Upcoming close price prediction',size=15)\n",
    "ax.legend()\n",
    "fig.show()"
   ]
  },
  {
   "cell_type": "markdown",
   "id": "a8298427",
   "metadata": {},
   "source": [
    "# THANK YOU!"
   ]
  },
  {
   "cell_type": "code",
   "execution_count": null,
   "id": "7089b3bc",
   "metadata": {},
   "outputs": [],
   "source": []
  }
 ],
 "metadata": {
  "kernelspec": {
   "display_name": "Python 3 (ipykernel)",
   "language": "python",
   "name": "python3"
  },
  "language_info": {
   "codemirror_mode": {
    "name": "ipython",
    "version": 3
   },
   "file_extension": ".py",
   "mimetype": "text/x-python",
   "name": "python",
   "nbconvert_exporter": "python",
   "pygments_lexer": "ipython3",
   "version": "3.9.12"
  }
 },
 "nbformat": 4,
 "nbformat_minor": 5
}
